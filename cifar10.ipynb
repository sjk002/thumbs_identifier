{
 "cells": [
  {
   "cell_type": "markdown",
   "id": "2b47e339-2f91-4e15-b72e-b97f38089d05",
   "metadata": {},
   "source": [
    "# Identifier"
   ]
  },
  {
   "cell_type": "markdown",
   "id": "787f3a83-a6f4-446e-893f-86ccd42e955c",
   "metadata": {},
   "source": [
    "Steps:\n",
    "- Collect data [DONE]\n",
    "    - Find data on UCI ML Repository, Kaggle, Google\n",
    "    - Web scraping images\n",
    "- Clean data [DONE]\n",
    "    - Arrange data into csv file\n",
    "        - Labelling:\n",
    "            - Label 0 (thumbs down)\n",
    "            - Label 1 (thumbs up)\n",
    "        - Inputting images:\n",
    "            - Read/Reshape images\n",
    "            - Put into csv\n",
    "- Train model"
   ]
  },
  {
   "cell_type": "markdown",
   "id": "a0cf0ee8-f4c8-4005-93ff-ae74a33f5ef5",
   "metadata": {},
   "source": [
    "# Import Packages"
   ]
  },
  {
   "cell_type": "code",
   "execution_count": 539,
   "id": "9394b60d-7140-41f3-9cf2-4a5d33f300ca",
   "metadata": {},
   "outputs": [],
   "source": [
    "import numpy as np\n",
    "import pandas as pd\n",
    "import matplotlib.pyplot as plt\n",
    "import cv2\n",
    "import os\n",
    "import tensorflow as tf\n",
    "from tensorflow.keras import datasets"
   ]
  },
  {
   "cell_type": "markdown",
   "id": "ecc2b229-5809-405c-8176-df3bc88b9429",
   "metadata": {},
   "source": [
    "# Import Dataset"
   ]
  },
  {
   "cell_type": "code",
   "execution_count": 541,
   "id": "5a7519b0-8b13-4d6c-a4b6-b570f519d38d",
   "metadata": {},
   "outputs": [
    {
     "name": "stdout",
     "output_type": "stream",
     "text": [
      "Downloading data from https://www.cs.toronto.edu/~kriz/cifar-10-python.tar.gz\n",
      "\u001b[1m170498071/170498071\u001b[0m \u001b[32m━━━━━━━━━━━━━━━━━━━━\u001b[0m\u001b[37m\u001b[0m \u001b[1m5s\u001b[0m 0us/step\n"
     ]
    }
   ],
   "source": [
    "(X_train, y_train), (X_test, y_test) = datasets.cifar10.load_data()"
   ]
  },
  {
   "cell_type": "code",
   "execution_count": 567,
   "id": "d86a26ab-314a-4b7c-b0ab-10e43d7e23ee",
   "metadata": {},
   "outputs": [],
   "source": [
    "y_train = y_train.reshape(-1,)\n",
    "y_test = y_test.reshape(-1,)"
   ]
  },
  {
   "cell_type": "code",
   "execution_count": 485,
   "id": "56bd81aa-0f0a-48c2-8815-6d973b75f8be",
   "metadata": {},
   "outputs": [],
   "source": [
    "def resize_images(initial_folder, new_folder):\n",
    "    for filename in os.listdir('./' + initial_folder):\n",
    "        img = cv2.imread('./' + initial_folder + '/' + filename)\n",
    "    \n",
    "        # Define the new dimensions \n",
    "        new_width = 32 \n",
    "        new_height = 32 \n",
    "         \n",
    "        # Resize the image using INTER_CUBIC interpolation \n",
    "        resized_image = cv2.resize(img, (new_width, new_height), interpolation=cv2.INTER_CUBIC) \n",
    "         \n",
    "        # Save the resized image \n",
    "        cv2.imwrite('./' + new_folder + '/' + filename, resized_image) "
   ]
  },
  {
   "cell_type": "code",
   "execution_count": 487,
   "id": "360890bf-4fc4-4dad-b160-82d909e8879c",
   "metadata": {},
   "outputs": [],
   "source": [
    "# CREATES ADDITIONAL FILES\n",
    "# ONLY RUN ONE TIME\n",
    "# ***** resize_images('images', 'resized_images') *******"
   ]
  },
  {
   "cell_type": "code",
   "execution_count": 489,
   "id": "a378c7d3-a830-423a-8c99-cd43f93cb14b",
   "metadata": {},
   "outputs": [
    {
     "data": {
      "text/plain": [
       "\"cv2.imshow('Resized Image', resized_image) \\ncv2.waitKey(0) \\ncv2.destroyAllWindows()\""
      ]
     },
     "execution_count": 489,
     "metadata": {},
     "output_type": "execute_result"
    }
   ],
   "source": [
    "# Optionally, display the image using OpenCV \n",
    "'''cv2.imshow('Resized Image', resized_image) \n",
    "cv2.waitKey(0) \n",
    "cv2.destroyAllWindows()'''\n"
   ]
  },
  {
   "cell_type": "code",
   "execution_count": 491,
   "id": "08792410-27e0-4a00-842c-fdb4a0eb0083",
   "metadata": {},
   "outputs": [],
   "source": [
    "def show_imgs(folder, n_imgs):\n",
    "    for filename in os.listdir('./' + folder)[:n_imgs]:\n",
    "        img = cv2.imread('./' + folder + '/' + filename)\n",
    "        plt.imshow(img, cmap='gray')\n",
    "        plt.show()"
   ]
  },
  {
   "cell_type": "code",
   "execution_count": 493,
   "id": "0e224c7e-126b-47a5-885c-19d6515e9c11",
   "metadata": {},
   "outputs": [
    {
     "data": {
      "image/png": "[encoded data removed]",
      "text/plain": [
       "<Figure size 640x480 with 1 Axes>"
      ]
     },
     "metadata": {},
     "output_type": "display_data"
    },
    {
     "data": {
      "image/png": "[encoded data removed]",
      "text/plain": [
       "<Figure size 640x480 with 1 Axes>"
      ]
     },
     "metadata": {},
     "output_type": "display_data"
    }
   ],
   "source": [
    "#show_imgs('resized_images', 2)"
   ]
  },
  {
   "cell_type": "code",
   "execution_count": 495,
   "id": "d4cc0204-c35c-408a-b9d4-d1edfcec54dc",
   "metadata": {},
   "outputs": [],
   "source": [
    "def import_data(folder):\n",
    "    training_data = []\n",
    "    for filename in os.listdir('./' + folder):\n",
    "        img = cv2.imread('./' + folder + '/' + filename)\n",
    "        label = 1\n",
    "        if 'down' in filename:\n",
    "            label = 0\n",
    "        training_data.append([img, label])\n",
    "    return training_data"
   ]
  },
  {
   "cell_type": "code",
   "execution_count": 497,
   "id": "64db2549-b7b9-46e7-ba4e-c1b7f9e59b3d",
   "metadata": {},
   "outputs": [],
   "source": [
    "#training_data = import_data('resized_images')"
   ]
  },
  {
   "cell_type": "code",
   "execution_count": 499,
   "id": "fe227d76-dfa4-42ac-badd-b73ca2fa7d9c",
   "metadata": {},
   "outputs": [],
   "source": [
    "import random\n",
    "\n",
    "def create_dataset(training_data):\n",
    "    X = []\n",
    "    y = []\n",
    "    '''\n",
    "    df = pd.DataFrame({\n",
    "        'features': [],\n",
    "        'labels': []\n",
    "    })\n",
    "    '''\n",
    "    random.shuffle(training_data)\n",
    "    for features, label in training_data:\n",
    "        X.append(features)\n",
    "        y.append(label)\n",
    "    X = np.array(X).reshape(-1, 32, 32, 3)\n",
    "\n",
    "    '''\n",
    "    new_row = {\n",
    "        'features': X,\n",
    "        'labels': y\n",
    "    }\n",
    "    df = pd.concat([df, pd.DataFrame([new_row])], ignore_index=True)\n",
    "    '''\n",
    "    \n",
    "    return X, y"
   ]
  },
  {
   "cell_type": "code",
   "execution_count": 501,
   "id": "4c91697c-3ca6-4567-ac16-0ea64490c3e3",
   "metadata": {},
   "outputs": [],
   "source": [
    "#X, y = create_dataset(training_data)"
   ]
  },
  {
   "cell_type": "markdown",
   "id": "fcbd0963-7ffa-42de-88bc-21c34a72d68f",
   "metadata": {},
   "source": [
    "# Split Dataset"
   ]
  },
  {
   "cell_type": "code",
   "execution_count": 569,
   "id": "93ead316-6778-4c54-95eb-c764b1351dd5",
   "metadata": {},
   "outputs": [],
   "source": [
    "def split_dataset(df):\n",
    "    train, test = np.split(df, [int(0.8*len(df))])\n",
    "    return train, test"
   ]
  },
  {
   "cell_type": "code",
   "execution_count": null,
   "id": "73d65d10-7c6e-43c1-aeda-4fe2041524f2",
   "metadata": {},
   "outputs": [],
   "source": [
    "#X_train, X_test = split_dataset(X)\n",
    "#y_train, y_test = split_dataset(y)"
   ]
  },
  {
   "cell_type": "code",
   "execution_count": 506,
   "id": "1ecf77db-d534-499b-ad2f-7fe52640e299",
   "metadata": {},
   "outputs": [],
   "source": [
    "def plot_sample(X, y, index):\n",
    "    plt.figure(figsize=(15,2))\n",
    "    plt.imshow(X[index])\n",
    "    "
   ]
  },
  {
   "cell_type": "code",
   "execution_count": null,
   "id": "8f91dd98-481c-4cb5-adcd-1eea4df24195",
   "metadata": {},
   "outputs": [],
   "source": [
    "classes = [\"airplane\",\"automobile\",\"bird\",\"cat\",\"deer\",\"dog\",\"frog\",\"horse\",\"ship\",\"truck\"]"
   ]
  },
  {
   "cell_type": "code",
   "execution_count": 551,
   "id": "676b9466-a57e-4afe-bdd1-641aa4a71e87",
   "metadata": {},
   "outputs": [
    {
     "data": {
      "image/png": "[encoded data removed]",
      "text/plain": [
       "<Figure size 1500x200 with 1 Axes>"
      ]
     },
     "metadata": {},
     "output_type": "display_data"
    }
   ],
   "source": [
    "plot_sample(X_train, y_train, 1)"
   ]
  },
  {
   "cell_type": "markdown",
   "id": "8859b84f-5783-423d-8529-d162f2a9d009",
   "metadata": {},
   "source": [
    "# Normalize training data"
   ]
  },
  {
   "cell_type": "code",
   "execution_count": 571,
   "id": "361b08f1-2d7b-4656-b923-1ac446d6dcf7",
   "metadata": {},
   "outputs": [],
   "source": [
    "X_train = X_train / 255.0\n",
    "X_test = X_test / 255.0"
   ]
  },
  {
   "cell_type": "markdown",
   "id": "d21278fa-e83e-4352-9c49-e568a400d666",
   "metadata": {},
   "source": [
    "# Simple ANN Model (Artificial Neural Network)"
   ]
  },
  {
   "cell_type": "code",
   "execution_count": 573,
   "id": "a8b36e31-5aa3-45d3-89ef-013d9504479b",
   "metadata": {},
   "outputs": [],
   "source": [
    "from tensorflow.keras.models import Sequential\n",
    "from tensorflow.keras.layers import Conv2D, MaxPooling2D, Flatten, Dense\n",
    "from sklearn.metrics import confusion_matrix, classification_report"
   ]
  },
  {
   "cell_type": "code",
   "execution_count": 596,
   "id": "44c287a3-3c40-4124-aa05-779a47bc1254",
   "metadata": {},
   "outputs": [
    {
     "name": "stderr",
     "output_type": "stream",
     "text": [
      "C:\\Users\\shawn\\anaconda3\\Lib\\site-packages\\keras\\src\\layers\\reshaping\\flatten.py:37: UserWarning: Do not pass an `input_shape`/`input_dim` argument to a layer. When using Sequential models, prefer using an `Input(shape)` object as the first layer in the model instead.\n",
      "  super().__init__(**kwargs)\n"
     ]
    }
   ],
   "source": [
    "ann = Sequential([\n",
    "    Flatten(input_shape=(32,32,3)),\n",
    "    Dense(3000, activation='relu'),\n",
    "    Dense(1000, activation='relu'),\n",
    "    Dense(10, activation='softmax')\n",
    "])\n",
    "\n",
    "ann.compile(\n",
    "    optimizer='SGD',\n",
    "    loss = 'sparse_categorical_crossentropy',\n",
    "    metrics = ['accuracy']\n",
    ")"
   ]
  },
  {
   "cell_type": "code",
   "execution_count": 598,
   "id": "6c6615be-2bfb-4442-ab1c-1e00a73e8de3",
   "metadata": {},
   "outputs": [
    {
     "name": "stdout",
     "output_type": "stream",
     "text": [
      "Epoch 1/5\n",
      "\u001b[1m1563/1563\u001b[0m \u001b[32m━━━━━━━━━━━━━━━━━━━━\u001b[0m\u001b[37m\u001b[0m \u001b[1m44s\u001b[0m 28ms/step - accuracy: 0.3025 - loss: 1.9334\n",
      "Epoch 2/5\n",
      "\u001b[1m1563/1563\u001b[0m \u001b[32m━━━━━━━━━━━━━━━━━━━━\u001b[0m\u001b[37m\u001b[0m \u001b[1m45s\u001b[0m 28ms/step - accuracy: 0.4206 - loss: 1.6454\n",
      "Epoch 3/5\n",
      "\u001b[1m1563/1563\u001b[0m \u001b[32m━━━━━━━━━━━━━━━━━━━━\u001b[0m\u001b[37m\u001b[0m \u001b[1m46s\u001b[0m 30ms/step - accuracy: 0.4530 - loss: 1.5443\n",
      "Epoch 4/5\n",
      "\u001b[1m1563/1563\u001b[0m \u001b[32m━━━━━━━━━━━━━━━━━━━━\u001b[0m\u001b[37m\u001b[0m \u001b[1m44s\u001b[0m 28ms/step - accuracy: 0.4766 - loss: 1.4854\n",
      "Epoch 5/5\n",
      "\u001b[1m1563/1563\u001b[0m \u001b[32m━━━━━━━━━━━━━━━━━━━━\u001b[0m\u001b[37m\u001b[0m \u001b[1m44s\u001b[0m 28ms/step - accuracy: 0.4957 - loss: 1.4388\n"
     ]
    },
    {
     "data": {
      "text/plain": [
       "<keras.src.callbacks.history.History at 0x1195e243140>"
      ]
     },
     "execution_count": 598,
     "metadata": {},
     "output_type": "execute_result"
    }
   ],
   "source": [
    "ann.fit(X_train, y_train, epochs=5)"
   ]
  },
  {
   "cell_type": "code",
   "execution_count": 600,
   "id": "1df8e5b9-bdb2-4579-84e7-adb5be6c0100",
   "metadata": {},
   "outputs": [
    {
     "name": "stdout",
     "output_type": "stream",
     "text": [
      "\u001b[1m313/313\u001b[0m \u001b[32m━━━━━━━━━━━━━━━━━━━━\u001b[0m\u001b[37m\u001b[0m \u001b[1m2s\u001b[0m 5ms/step\n",
      "              precision    recall  f1-score   support\n",
      "\n",
      "           0       0.61      0.47      0.53      1000\n",
      "           1       0.51      0.71      0.60      1000\n",
      "           2       0.42      0.31      0.36      1000\n",
      "           3       0.39      0.16      0.23      1000\n",
      "           4       0.45      0.37      0.41      1000\n",
      "           5       0.35      0.47      0.40      1000\n",
      "           6       0.57      0.47      0.51      1000\n",
      "           7       0.48      0.60      0.54      1000\n",
      "           8       0.53      0.69      0.60      1000\n",
      "           9       0.51      0.59      0.55      1000\n",
      "\n",
      "    accuracy                           0.48     10000\n",
      "   macro avg       0.48      0.48      0.47     10000\n",
      "weighted avg       0.48      0.48      0.47     10000\n",
      "\n"
     ]
    }
   ],
   "source": [
    "y_pred = ann.predict(X_test)\n",
    "y_pred_classes = [np.argmax(element) for element in y_pred]\n",
    "print(classification_report(y_test, y_pred_classes))"
   ]
  },
  {
   "cell_type": "markdown",
   "id": "acebdcd8-5892-4cbc-9942-3c8b2373bd9a",
   "metadata": {},
   "source": [
    "# CNN Model "
   ]
  },
  {
   "cell_type": "code",
   "execution_count": 582,
   "id": "a09da748-02d4-439e-9068-239073bf1d2b",
   "metadata": {},
   "outputs": [
    {
     "name": "stderr",
     "output_type": "stream",
     "text": [
      "C:\\Users\\shawn\\anaconda3\\Lib\\site-packages\\keras\\src\\layers\\convolutional\\base_conv.py:107: UserWarning: Do not pass an `input_shape`/`input_dim` argument to a layer. When using Sequential models, prefer using an `Input(shape)` object as the first layer in the model instead.\n",
      "  super().__init__(activity_regularizer=activity_regularizer, **kwargs)\n"
     ]
    }
   ],
   "source": [
    "cnn = Sequential([\n",
    "    Conv2D(32, (3,3), activation='relu', input_shape=(32,32,3)),\n",
    "    MaxPooling2D((2,2)),\n",
    "\n",
    "    Conv2D(64, (3,3), activation='relu'),\n",
    "    MaxPooling2D((2,2)),\n",
    "\n",
    "    Flatten(),\n",
    "    Dense(64, activation='relu'),\n",
    "    Dense(10, activation='softmax')\n",
    "])"
   ]
  },
  {
   "cell_type": "code",
   "execution_count": 584,
   "id": "379ffe7c-0a51-461b-969e-09ee31424cc7",
   "metadata": {},
   "outputs": [],
   "source": [
    "cnn.compile(optimizer='adam',\n",
    "           loss='sparse_categorical_crossentropy',\n",
    "           metrics=['accuracy'])"
   ]
  },
  {
   "cell_type": "code",
   "execution_count": 586,
   "id": "755a0914-15fc-4729-a5c0-c030b3818159",
   "metadata": {},
   "outputs": [
    {
     "name": "stdout",
     "output_type": "stream",
     "text": [
      "Epoch 1/10\n",
      "\u001b[1m1563/1563\u001b[0m \u001b[32m━━━━━━━━━━━━━━━━━━━━\u001b[0m\u001b[37m\u001b[0m \u001b[1m9s\u001b[0m 5ms/step - accuracy: 0.3731 - loss: 1.7219\n",
      "Epoch 2/10\n",
      "\u001b[1m1563/1563\u001b[0m \u001b[32m━━━━━━━━━━━━━━━━━━━━\u001b[0m\u001b[37m\u001b[0m \u001b[1m7s\u001b[0m 5ms/step - accuracy: 0.5891 - loss: 1.1707\n",
      "Epoch 3/10\n",
      "\u001b[1m1563/1563\u001b[0m \u001b[32m━━━━━━━━━━━━━━━━━━━━\u001b[0m\u001b[37m\u001b[0m \u001b[1m7s\u001b[0m 5ms/step - accuracy: 0.6565 - loss: 0.9911\n",
      "Epoch 4/10\n",
      "\u001b[1m1563/1563\u001b[0m \u001b[32m━━━━━━━━━━━━━━━━━━━━\u001b[0m\u001b[37m\u001b[0m \u001b[1m8s\u001b[0m 5ms/step - accuracy: 0.6890 - loss: 0.8970\n",
      "Epoch 5/10\n",
      "\u001b[1m1563/1563\u001b[0m \u001b[32m━━━━━━━━━━━━━━━━━━━━\u001b[0m\u001b[37m\u001b[0m \u001b[1m8s\u001b[0m 5ms/step - accuracy: 0.7121 - loss: 0.8197\n",
      "Epoch 6/10\n",
      "\u001b[1m1563/1563\u001b[0m \u001b[32m━━━━━━━━━━━━━━━━━━━━\u001b[0m\u001b[37m\u001b[0m \u001b[1m8s\u001b[0m 5ms/step - accuracy: 0.7368 - loss: 0.7476\n",
      "Epoch 7/10\n",
      "\u001b[1m1563/1563\u001b[0m \u001b[32m━━━━━━━━━━━━━━━━━━━━\u001b[0m\u001b[37m\u001b[0m \u001b[1m8s\u001b[0m 5ms/step - accuracy: 0.7548 - loss: 0.6988\n",
      "Epoch 8/10\n",
      "\u001b[1m1563/1563\u001b[0m \u001b[32m━━━━━━━━━━━━━━━━━━━━\u001b[0m\u001b[37m\u001b[0m \u001b[1m8s\u001b[0m 5ms/step - accuracy: 0.7770 - loss: 0.6403\n",
      "Epoch 9/10\n",
      "\u001b[1m1563/1563\u001b[0m \u001b[32m━━━━━━━━━━━━━━━━━━━━\u001b[0m\u001b[37m\u001b[0m \u001b[1m8s\u001b[0m 5ms/step - accuracy: 0.7876 - loss: 0.6112\n",
      "Epoch 10/10\n",
      "\u001b[1m1563/1563\u001b[0m \u001b[32m━━━━━━━━━━━━━━━━━━━━\u001b[0m\u001b[37m\u001b[0m \u001b[1m8s\u001b[0m 5ms/step - accuracy: 0.8011 - loss: 0.5699\n"
     ]
    },
    {
     "data": {
      "text/plain": [
       "<keras.src.callbacks.history.History at 0x1194d6abd70>"
      ]
     },
     "execution_count": 586,
     "metadata": {},
     "output_type": "execute_result"
    }
   ],
   "source": [
    "cnn.fit(X_train, y_train, epochs=10)"
   ]
  },
  {
   "cell_type": "code",
   "execution_count": 587,
   "id": "6f64987d-e3d1-4da1-b8b7-c2cfeb895792",
   "metadata": {},
   "outputs": [
    {
     "name": "stdout",
     "output_type": "stream",
     "text": [
      "\u001b[1m313/313\u001b[0m \u001b[32m━━━━━━━━━━━━━━━━━━━━\u001b[0m\u001b[37m\u001b[0m \u001b[1m1s\u001b[0m 2ms/step - accuracy: 0.6975 - loss: 0.9401\n"
     ]
    },
    {
     "data": {
      "text/plain": [
       "[0.9536016583442688, 0.6933000087738037]"
      ]
     },
     "execution_count": 587,
     "metadata": {},
     "output_type": "execute_result"
    }
   ],
   "source": [
    "cnn.evaluate(X_test, y_test)"
   ]
  },
  {
   "cell_type": "code",
   "execution_count": 590,
   "id": "1ae81192-c69e-4154-b448-e1b7ea84ff5f",
   "metadata": {},
   "outputs": [
    {
     "name": "stdout",
     "output_type": "stream",
     "text": [
      "\u001b[1m313/313\u001b[0m \u001b[32m━━━━━━━━━━━━━━━━━━━━\u001b[0m\u001b[37m\u001b[0m \u001b[1m1s\u001b[0m 2ms/step\n",
      "              precision    recall  f1-score   support\n",
      "\n",
      "           0       0.69      0.78      0.73      1000\n",
      "           1       0.70      0.88      0.78      1000\n",
      "           2       0.56      0.63      0.59      1000\n",
      "           3       0.59      0.43      0.50      1000\n",
      "           4       0.74      0.57      0.64      1000\n",
      "           5       0.60      0.63      0.61      1000\n",
      "           6       0.71      0.84      0.77      1000\n",
      "           7       0.77      0.75      0.76      1000\n",
      "           8       0.82      0.72      0.77      1000\n",
      "           9       0.79      0.71      0.75      1000\n",
      "\n",
      "    accuracy                           0.69     10000\n",
      "   macro avg       0.70      0.69      0.69     10000\n",
      "weighted avg       0.70      0.69      0.69     10000\n",
      "\n"
     ]
    }
   ],
   "source": [
    "y_pred = cnn.predict(X_test)\n",
    "y_pred_classes = [np.argmax(element) for element in y_pred]\n",
    "print(classification_report(y_test, y_pred_classes))"
   ]
  },
  {
   "cell_type": "code",
   "execution_count": null,
   "id": "6b7e19fb-bf8e-4fd2-8f7f-796866d00308",
   "metadata": {},
   "outputs": [],
   "source": []
  }
 ],
 "metadata": {
  "kernelspec": {
   "display_name": "Python 3 (ipykernel)",
   "language": "python",
   "name": "python3"
  },
  "language_info": {
   "codemirror_mode": {
    "name": "ipython",
    "version": 3
   },
   "file_extension": ".py",
   "mimetype": "text/x-python",
   "name": "python",
   "nbconvert_exporter": "python",
   "pygments_lexer": "ipython3",
   "version": "3.12.4"
  }
 },
 "nbformat": 4,
 "nbformat_minor": 5
}
