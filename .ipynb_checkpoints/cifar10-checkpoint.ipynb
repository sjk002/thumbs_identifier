{
 "cells": [
  {
   "cell_type": "markdown",
   "id": "2b47e339-2f91-4e15-b72e-b97f38089d05",
   "metadata": {},
   "source": [
    "# Identifier"
   ]
  },
  {
   "cell_type": "markdown",
   "id": "787f3a83-a6f4-446e-893f-86ccd42e955c",
   "metadata": {},
   "source": [
    "Steps:\n",
    "- Collect data [DONE]\n",
    "    - Find data on UCI ML Repository, Kaggle, Google\n",
    "    - Web scraping images\n",
    "- Clean data\n",
    "    - Arrange data into csv file\n",
    "        - Labelling:\n",
    "            - Label 0 (thumbs down)\n",
    "            - Label 1 (thumbs up)\n",
    "        - Inputting images:\n",
    "            - Read/Reshape images\n",
    "            - Put into csv\n",
    "- Train model"
   ]
  },
  {
   "cell_type": "markdown",
   "id": "a0cf0ee8-f4c8-4005-93ff-ae74a33f5ef5",
   "metadata": {},
   "source": [
    "# Import Packages"
   ]
  },
  {
   "cell_type": "code",
   "execution_count": 1,
   "id": "9394b60d-7140-41f3-9cf2-4a5d33f300ca",
   "metadata": {},
   "outputs": [],
   "source": [
    "import numpy as np\n",
    "import pandas as pd\n",
    "import matplotlib.pyplot as plt\n",
    "import cv2"
   ]
  },
  {
   "cell_type": "markdown",
   "id": "ecc2b229-5809-405c-8176-df3bc88b9429",
   "metadata": {},
   "source": [
    "# Creating CSV File"
   ]
  },
  {
   "cell_type": "code",
   "execution_count": 4,
   "id": "e6a8e24e-9e07-4b9e-be4f-a8b36a3cde12",
   "metadata": {},
   "outputs": [],
   "source": [
    "df = pd.read_csv('dataset.csv')"
   ]
  },
  {
   "cell_type": "code",
   "execution_count": 6,
   "id": "d72d2c0c-51fe-4187-8876-6a467833d5a1",
   "metadata": {},
   "outputs": [
    {
     "data": {
      "text/html": [
       "<div>\n",
       "<style scoped>\n",
       "    .dataframe tbody tr th:only-of-type {\n",
       "        vertical-align: middle;\n",
       "    }\n",
       "\n",
       "    .dataframe tbody tr th {\n",
       "        vertical-align: top;\n",
       "    }\n",
       "\n",
       "    .dataframe thead th {\n",
       "        text-align: right;\n",
       "    }\n",
       "</style>\n",
       "<table border=\"1\" class=\"dataframe\">\n",
       "  <thead>\n",
       "    <tr style=\"text-align: right;\">\n",
       "      <th></th>\n",
       "      <th>Image</th>\n",
       "      <th>Label</th>\n",
       "    </tr>\n",
       "  </thead>\n",
       "  <tbody>\n",
       "    <tr>\n",
       "      <th>0</th>\n",
       "      <td>0</td>\n",
       "      <td>0</td>\n",
       "    </tr>\n",
       "    <tr>\n",
       "      <th>1</th>\n",
       "      <td>0</td>\n",
       "      <td>0</td>\n",
       "    </tr>\n",
       "    <tr>\n",
       "      <th>2</th>\n",
       "      <td>0</td>\n",
       "      <td>0</td>\n",
       "    </tr>\n",
       "    <tr>\n",
       "      <th>3</th>\n",
       "      <td>0</td>\n",
       "      <td>0</td>\n",
       "    </tr>\n",
       "    <tr>\n",
       "      <th>4</th>\n",
       "      <td>0</td>\n",
       "      <td>0</td>\n",
       "    </tr>\n",
       "  </tbody>\n",
       "</table>\n",
       "</div>"
      ],
      "text/plain": [
       "   Image  Label\n",
       "0      0      0\n",
       "1      0      0\n",
       "2      0      0\n",
       "3      0      0\n",
       "4      0      0"
      ]
     },
     "execution_count": 6,
     "metadata": {},
     "output_type": "execute_result"
    }
   ],
   "source": [
    "df.head()"
   ]
  },
  {
   "cell_type": "code",
   "execution_count": 26,
   "id": "56bd81aa-0f0a-48c2-8815-6d973b75f8be",
   "metadata": {},
   "outputs": [
    {
     "name": "stdout",
     "output_type": "stream",
     "text": [
      "(408, 612, 3) (408, 612)\n"
     ]
    }
   ],
   "source": [
    "img_path = 'thumbsdown.jpg'\n",
    "img = cv2.imread('./images/' + img_path)\n",
    "img_gray = cv2.cvtColor(img, cv2.COLOR_BGR2GRAY)"
   ]
  },
  {
   "cell_type": "code",
   "execution_count": 34,
   "id": "f40694ae-1a90-4636-a098-443371294d46",
   "metadata": {},
   "outputs": [
    {
     "data": {
      "text/plain": [
       "8"
      ]
     },
     "execution_count": 34,
     "metadata": {},
     "output_type": "execute_result"
    }
   ],
   "source": [
    "count = 0\n",
    "for file in './images':\n",
    "    count += 1\n",
    "count"
   ]
  },
  {
   "cell_type": "code",
   "execution_count": null,
   "id": "73583cd8-4d2f-4a33-9e91-3b0a0d210b98",
   "metadata": {},
   "outputs": [],
   "source": []
  }
 ],
 "metadata": {
  "kernelspec": {
   "display_name": "Python 3 (ipykernel)",
   "language": "python",
   "name": "python3"
  },
  "language_info": {
   "codemirror_mode": {
    "name": "ipython",
    "version": 3
   },
   "file_extension": ".py",
   "mimetype": "text/x-python",
   "name": "python",
   "nbconvert_exporter": "python",
   "pygments_lexer": "ipython3",
   "version": "3.12.4"
  }
 },
 "nbformat": 4,
 "nbformat_minor": 5
}
